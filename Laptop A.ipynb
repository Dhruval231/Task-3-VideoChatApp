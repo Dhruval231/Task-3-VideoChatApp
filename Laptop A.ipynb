{
 "cells": [
  {
   "cell_type": "code",
   "execution_count": null,
   "id": "99b024a4",
   "metadata": {},
   "outputs": [
    {
     "name": "stdout",
     "output_type": "stream",
     "text": [
      "GOT CONNECTION FROM :  ('192.168.3.103', 57655)\n"
     ]
    }
   ],
   "source": [
    "import socket ,cv2, pickle ,struct\n",
    "\n",
    "server_socket = socket.socket (socket.AF_INET ,socket.SOCK_STREAM)#server socket created to send data\n",
    "\n",
    "c_socket = socket.socket (socket.AF_INET ,socket.SOCK_STREAM)#client socket created to accept data\n",
    "\n",
    "server_socket.bind(('192.168.3.100',8888))#socket become server to send video data with server ip and port\n",
    "server_socket.listen(5)\n",
    "c_socket.connect(('192.168.3.103',8888))#socket become client to receive video data with client ip and port\n",
    "data = b\"\" # initialize data as bytes\n",
    "payload_size =struct.calcsize(\"Q\")# unsigned Q take long integer of 8 bytes\n",
    "while True:\n",
    "    client_socket ,addr = server_socket.accept()#accepting client data\n",
    "    print('GOT CONNECTION FROM : ',addr)\n",
    "    \n",
    "    vid = cv2.VideoCapture(0)#taking picture from webcam\n",
    "    while (vid.isOpened()):\n",
    "        img , frame = vid.read()#storing picture from webcam \n",
    "        a = pickle.dumps(frame)#converting object into bytes \n",
    "        message = struct .pack(\"Q\",len(a))+a#interpret bytes as packed binary data\n",
    "        client_socket.sendall(message)#sending packed binary data to client\n",
    "    \n",
    "            \n",
    "        while len(data) < payload_size:\n",
    "            packet = c_socket.recv(4*1024)#receiving packed binary data\n",
    "            if not packet:\n",
    "                break\n",
    "            data += packet#storing packed binary data in data\n",
    "           \n",
    "        packed_msg_size = data[:payload_size]#first eight byte contain packed message\n",
    "        data = data [payload_size :]#rest of byte is our data\n",
    "        msg_size=struct.unpack(\"Q\" , packed_msg_size)[0]#extracting message size\n",
    "    \n",
    "        while len (data) < msg_size:\n",
    "            data += c_socket.recv(4*1024)\n",
    "        frame_data = data[:msg_size]#extracting first frame data\n",
    "        data = data [msg_size:]\n",
    "        frame = pickle.loads(frame_data)#converting bytes into object\n",
    "        cv2.imshow(\"RECEived\" , frame)#displaying received data\n",
    "        if cv2.waitKey(1) == 13:\n",
    "            break\n",
    "        \n",
    "c_socket.close()"
   ]
  },
  {
   "cell_type": "code",
   "execution_count": null,
   "id": "efa6fb3d",
   "metadata": {},
   "outputs": [],
   "source": []
  },
  {
   "cell_type": "code",
   "execution_count": null,
   "id": "e67185fe",
   "metadata": {},
   "outputs": [],
   "source": []
  }
 ],
 "metadata": {
  "kernelspec": {
   "display_name": "Python 3",
   "language": "python",
   "name": "python3"
  },
  "language_info": {
   "codemirror_mode": {
    "name": "ipython",
    "version": 3
   },
   "file_extension": ".py",
   "mimetype": "text/x-python",
   "name": "python",
   "nbconvert_exporter": "python",
   "pygments_lexer": "ipython3",
   "version": "3.8.8"
  }
 },
 "nbformat": 4,
 "nbformat_minor": 5
}
