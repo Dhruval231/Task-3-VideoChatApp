{
 "cells": [
  {
   "cell_type": "code",
   "execution_count": null,
   "id": "e73e7ac0",
   "metadata": {},
   "outputs": [],
   "source": [
    "import socket,cv2,pickle,struct\n",
    "client_socket = socket.socket (socket.AF_INET ,socket.SOCK_STREAM)#client socket created to accept data\n",
    "s_socket = socket.socket (socket.AF_INET ,socket.SOCK_STREAM)#server socket created to send data\n",
    "host_ip = '192.168.3.100'\n",
    "port = 8888\n",
    "client_socket.connect((host_ip,port))#socket become client to receive data with client ip and port\n",
    "s_socket.bind(('192.168.3.103',8888))#socket become server to send data with server ip and port\n",
    "s_socket.listen(5)\n",
    "data = b\"\" # initialize data as bytes\n",
    "payload_size =struct.calcsize(\"Q\")# unsigned Q take long integer of 8 bytes\n",
    "while True:\n",
    "    c_socket ,addr = s_socket.accept()#accepting client data\n",
    "    print('GOT CONNECTION FROM : ',addr)\n",
    "    vid = cv2.VideoCapture(0)#taking picture from webcam\n",
    "    while(vid.isOpened()):\n",
    "        img , frame = vid.read()#storing picture from webcam\n",
    "        a = pickle.dumps(frame)#converting object into bytes\n",
    "        message = struct .pack(\"Q\",len(a))+a#interpret bytes as packed binary data\n",
    "   \n",
    "        c_socket.sendall(message)#sending packed binary data to other system\n",
    "    \n",
    "        while len(data) < payload_size:\n",
    "            packet = client_socket.recv(4*1024)#receiving packed binary data\n",
    "            if not packet:\n",
    "                break\n",
    "            data += packet#storing packed binary data\n",
    "        \n",
    "        packed_msg_size = data[:payload_size]#first eight byte contain packed message\n",
    "        data = data [payload_size :]#rest of byte is our data\n",
    "        msg_size=struct.unpack(\"P\" , packed_msg_size)[0]#extracting message size\n",
    "    \n",
    "        while len (data) < msg_size:\n",
    "            data += client_socket.recv(4*1024)\n",
    "        frame_data = data[:msg_size]#extracting first frame data\n",
    "        data = data [msg_size:]\n",
    "        frame = pickle.loads(frame_data)#converting bytes into data\n",
    "        if client_socket:\n",
    "            cv2.imshow(\"RECEived\" , frame)#displaying receiving data\n",
    "        \n",
    "            \n",
    "            if cv2.waitKey(1)==13:\n",
    "               \n",
    "                break\n",
    "    \n",
    "\n",
    "\n",
    "    \n",
    "client_socket.close()"
   ]
  }
 ],
 "metadata": {
  "kernelspec": {
   "display_name": "Python 3",
   "language": "python",
   "name": "python3"
  },
  "language_info": {
   "codemirror_mode": {
    "name": "ipython",
    "version": 3
   },
   "file_extension": ".py",
   "mimetype": "text/x-python",
   "name": "python",
   "nbconvert_exporter": "python",
   "pygments_lexer": "ipython3",
   "version": "3.8.8"
  }
 },
 "nbformat": 4,
 "nbformat_minor": 5
}
